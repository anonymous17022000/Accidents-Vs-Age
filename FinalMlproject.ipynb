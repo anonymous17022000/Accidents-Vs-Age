{
 "cells": [
  {
   "cell_type": "code",
   "execution_count": 1,
   "metadata": {
    "collapsed": false
   },
   "outputs": [
    {
     "name": "stderr",
     "output_type": "stream",
     "text": [
      "C:\\Users\\bharg\\Anaconda3\\lib\\site-packages\\IPython\\core\\interactiveshell.py:2723: DtypeWarning: Columns (0) have mixed types. Specify dtype option on import or set low_memory=False.\n",
      "  interactivity=interactivity, compiler=compiler, result=result)\n"
     ]
    }
   ],
   "source": [
    "import pandas as pd\n",
    "df=pd.DataFrame()\n",
    "for c in pd.read_csv(\"Kaagle_Upload.csv\",chunksize=10000):\n",
    "    df=df.append(c)\n",
    "df    \n",
    "df1=df.copy()\n",
    "df2=df1.columns[:14]\n",
    "df3=df1[14:28]\n",
    "df2=df.copy()\n",
    "df2[\"age_of_casualty\"]=df2[\"age_of_casualty\"].fillna(df2[\"age_of_casualty\"].median()) \n",
    "df2[\"age_of_driver\"]=df2[\"age_of_driver\"].fillna(df2[\"age_of_driver\"].median())\n",
    "df5=df2[:174538][['age_of_casualty','age_band_of_casualty','age_band_of_driver','age_of_driver','vehicle_manoeuvre','skidding_and_overturning','hit_object_in_carriageway','hit_object_off_carriageway','weather_conditions','light_conditions','road_surface_conditions','special_conditions_at_site'\n",
    "         ,'urban_or_rural_area']]\n",
    "df2[\"age_of_casualty\"]=df2[\"age_of_casualty\"].fillna(df2[\"age_of_casualty\"].median()) \n",
    "for i in df2[\"age_of_casualty\"]:\n",
    "    if i==-1:\n",
    "        df2[\"age_of_casualty\"]=df2[\"age_of_casualty\"].replace(i,df2[\"age_of_casualty\"].median())\n",
    "df2[\"age_band_of_casualty\"]=df2[\"age_band_of_casualty\"].fillna(df2[\"age_band_of_casualty\"].median())\n",
    "for j in df2[\"age_band_of_casualty\"]:\n",
    "    if j==-1:\n",
    "        df2[\"age_band_of_casualty\"]=df2[\"age_band_of_casualty\"].replace(j,df2[\"age_band_of_casualty\"].median())"
   ]
  },
  {
   "cell_type": "code",
   "execution_count": 2,
   "metadata": {
    "collapsed": false
   },
   "outputs": [
    {
     "name": "stderr",
     "output_type": "stream",
     "text": [
      "C:\\Users\\bharg\\Anaconda3\\lib\\site-packages\\sklearn\\utils\\fixes.py:313: FutureWarning: numpy not_equal will not check object identity in the future. The comparison did not return the same result as suggested by the identity (`is`)) and will change.\n",
      "  _nan_object_mask = _nan_object_array != _nan_object_array\n",
      "C:\\Users\\bharg\\Anaconda3\\lib\\site-packages\\sklearn\\svm\\base.py:196: FutureWarning: The default value of gamma will change from 'auto' to 'scale' in version 0.22 to account better for unscaled features. Set gamma explicitly to 'auto' or 'scale' to avoid this warning.\n",
      "  \"avoid this warning.\", FutureWarning)\n",
      "C:\\Users\\bharg\\Anaconda3\\lib\\site-packages\\sklearn\\svm\\base.py:196: FutureWarning: The default value of gamma will change from 'auto' to 'scale' in version 0.22 to account better for unscaled features. Set gamma explicitly to 'auto' or 'scale' to avoid this warning.\n",
      "  \"avoid this warning.\", FutureWarning)\n",
      "C:\\Users\\bharg\\Anaconda3\\lib\\site-packages\\sklearn\\svm\\base.py:196: FutureWarning: The default value of gamma will change from 'auto' to 'scale' in version 0.22 to account better for unscaled features. Set gamma explicitly to 'auto' or 'scale' to avoid this warning.\n",
      "  \"avoid this warning.\", FutureWarning)\n",
      "C:\\Users\\bharg\\Anaconda3\\lib\\site-packages\\sklearn\\svm\\base.py:196: FutureWarning: The default value of gamma will change from 'auto' to 'scale' in version 0.22 to account better for unscaled features. Set gamma explicitly to 'auto' or 'scale' to avoid this warning.\n",
      "  \"avoid this warning.\", FutureWarning)\n",
      "C:\\Users\\bharg\\Anaconda3\\lib\\site-packages\\sklearn\\svm\\base.py:196: FutureWarning: The default value of gamma will change from 'auto' to 'scale' in version 0.22 to account better for unscaled features. Set gamma explicitly to 'auto' or 'scale' to avoid this warning.\n",
      "  \"avoid this warning.\", FutureWarning)\n"
     ]
    },
    {
     "data": {
      "text/plain": [
       "OneVsRestClassifier(estimator=SVC(C=1.0, cache_size=200, class_weight=None, coef0=0.0,\n",
       "  decision_function_shape='ovr', degree=3, gamma='auto_deprecated',\n",
       "  kernel='rbf', max_iter=-1, probability=True, random_state=None,\n",
       "  shrinking=True, tol=0.001, verbose=False),\n",
       "          n_jobs=None)"
      ]
     },
     "execution_count": 2,
     "metadata": {},
     "output_type": "execute_result"
    }
   ],
   "source": [
    "df2[\"age_band_of_driver\"]=df2[\"age_band_of_driver\"].fillna(df2[\"age_band_of_driver\"].median()) \n",
    "for k in df2[\"age_band_of_driver\"]:\n",
    "    if k==-1:\n",
    "        df2[\"age_band_of_driver\"]=df2[\"age_band_of_driver\"].replace(k,df2[\"age_band_of_driver\"].median())\n",
    "df2[\"age_of_driver\"]=df2[\"age_of_driver\"].fillna(df2[\"age_of_driver\"].median())\n",
    "for l in df2[\"age_of_driver\"]:\n",
    "    if l==-1:\n",
    "        df2[\"age_of_driver\"]=df2[\"age_of_driver\"].replace(l,df2[\"age_of_driver\"].median())\n",
    "df5=df2[:174538][['age_of_casualty','age_band_of_casualty','age_band_of_driver','age_of_driver','vehicle_manoeuvre','skidding_and_overturning','hit_object_in_carriageway','hit_object_off_carriageway','weather_conditions','light_conditions','road_surface_conditions','special_conditions_at_site'\n",
    "         ,'urban_or_rural_area']]\n",
    "import sklearn\n",
    "import numpy as np\n",
    "from sklearn import metrics\n",
    "from sklearn.preprocessing import MultiLabelBinarizer\n",
    "y=df5['age_of_casualty'][:10000]\n",
    "lis=[]\n",
    "for i in y:\n",
    "    if i<20:\n",
    "        lis.append(0)\n",
    "    elif i>=20 and i<40:\n",
    "        lis.append(1)\n",
    "    elif i>=40 and i<60:\n",
    "        lis.append(2)\n",
    "    elif i>=60 and i<80:\n",
    "        lis.append(3)\n",
    "    else:\n",
    "        lis.append(4)\n",
    "        \n",
    "X=df5[['skidding_and_overturning','hit_object_in_carriageway','hit_object_off_carriageway','road_surface_conditions','urban_or_rural_area']][:10000]\n",
    "from sklearn.model_selection import train_test_split\n",
    "X_train, X_test, y_train, y_test = train_test_split(X, lis, test_size=0.45, random_state=0)\n",
    "\n",
    "from sklearn.multiclass import OneVsRestClassifier\n",
    "from sklearn.svm import SVC\n",
    "classif=OneVsRestClassifier(SVC(probability=True))\n",
    "classif.fit(X_train,y_train)\n"
   ]
  },
  {
   "cell_type": "code",
   "execution_count": 3,
   "metadata": {
    "collapsed": true
   },
   "outputs": [],
   "source": [
    "pred=classif.predict(X_test)\n",
    "s=0\n",
    "for i in range(len(pred)):\n",
    "    if pred[i]==y_test[i]:\n",
    "        s+=1"
   ]
  },
  {
   "cell_type": "code",
   "execution_count": 4,
   "metadata": {
    "collapsed": false
   },
   "outputs": [
    {
     "name": "stdout",
     "output_type": "stream",
     "text": [
      "accuracy of model1 67.95555555555556 percent\n"
     ]
    }
   ],
   "source": [
    "print(\"accuracy of model1\",s/len(pred)*100,\"percent\")"
   ]
  },
  {
   "cell_type": "code",
   "execution_count": 5,
   "metadata": {
    "collapsed": false
   },
   "outputs": [
    {
     "name": "stdout",
     "output_type": "stream",
     "text": [
      "the performance of the trained model is 68.4363636364 percent\n"
     ]
    }
   ],
   "source": [
    "print(\"the performance of the trained model is\",classif.score(X_train,y_train)*100,\"percent\")"
   ]
  },
  {
   "cell_type": "code",
   "execution_count": 6,
   "metadata": {
    "collapsed": false
   },
   "outputs": [
    {
     "name": "stdout",
     "output_type": "stream",
     "text": [
      "the performance of the test model is 67.9555555556 percent\n"
     ]
    }
   ],
   "source": [
    "print(\"the performance of the test model is\",classif.score(X_test,y_test)*100,\"percent\")"
   ]
  },
  {
   "cell_type": "code",
   "execution_count": 7,
   "metadata": {
    "collapsed": false
   },
   "outputs": [
    {
     "name": "stderr",
     "output_type": "stream",
     "text": [
      "C:\\Users\\bharg\\Anaconda3\\lib\\site-packages\\sklearn\\svm\\base.py:196: FutureWarning: The default value of gamma will change from 'auto' to 'scale' in version 0.22 to account better for unscaled features. Set gamma explicitly to 'auto' or 'scale' to avoid this warning.\n",
      "  \"avoid this warning.\", FutureWarning)\n",
      "C:\\Users\\bharg\\Anaconda3\\lib\\site-packages\\sklearn\\svm\\base.py:196: FutureWarning: The default value of gamma will change from 'auto' to 'scale' in version 0.22 to account better for unscaled features. Set gamma explicitly to 'auto' or 'scale' to avoid this warning.\n",
      "  \"avoid this warning.\", FutureWarning)\n",
      "C:\\Users\\bharg\\Anaconda3\\lib\\site-packages\\sklearn\\svm\\base.py:196: FutureWarning: The default value of gamma will change from 'auto' to 'scale' in version 0.22 to account better for unscaled features. Set gamma explicitly to 'auto' or 'scale' to avoid this warning.\n",
      "  \"avoid this warning.\", FutureWarning)\n",
      "C:\\Users\\bharg\\Anaconda3\\lib\\site-packages\\sklearn\\svm\\base.py:196: FutureWarning: The default value of gamma will change from 'auto' to 'scale' in version 0.22 to account better for unscaled features. Set gamma explicitly to 'auto' or 'scale' to avoid this warning.\n",
      "  \"avoid this warning.\", FutureWarning)\n",
      "C:\\Users\\bharg\\Anaconda3\\lib\\site-packages\\sklearn\\svm\\base.py:196: FutureWarning: The default value of gamma will change from 'auto' to 'scale' in version 0.22 to account better for unscaled features. Set gamma explicitly to 'auto' or 'scale' to avoid this warning.\n",
      "  \"avoid this warning.\", FutureWarning)\n"
     ]
    },
    {
     "data": {
      "text/plain": [
       "OneVsRestClassifier(estimator=SVC(C=1.0, cache_size=200, class_weight=None, coef0=0.0,\n",
       "  decision_function_shape='ovr', degree=3, gamma='auto_deprecated',\n",
       "  kernel='rbf', max_iter=-1, probability=True, random_state=None,\n",
       "  shrinking=True, tol=0.001, verbose=False),\n",
       "          n_jobs=None)"
      ]
     },
     "execution_count": 7,
     "metadata": {},
     "output_type": "execute_result"
    }
   ],
   "source": [
    "import sklearn\n",
    "import numpy as np\n",
    "from sklearn import metrics\n",
    "from sklearn.preprocessing import MultiLabelBinarizer\n",
    "y1=df5['age_of_driver'][:10000]\n",
    "lis1=[]\n",
    "for i in y1:\n",
    "    if i<20:\n",
    "        lis1.append(0)\n",
    "    elif i>=20 and i<40:\n",
    "        lis1.append(1)\n",
    "    elif i>=40 and i<60:\n",
    "        lis1.append(2)\n",
    "    elif i>=60 and i<80:\n",
    "        lis1.append(3)\n",
    "    else:\n",
    "        lis1.append(4)\n",
    "        \n",
    "X1=df5[['skidding_and_overturning','hit_object_in_carriageway','hit_object_off_carriageway','road_surface_conditions','urban_or_rural_area']][:10000]\n",
    "from sklearn.model_selection import train_test_split\n",
    "X_train1, X_test1, y_train1, y_test1 = train_test_split(X1, lis1, test_size=0.4, random_state=0)\n",
    "\n",
    "from sklearn.multiclass import OneVsRestClassifier\n",
    "from sklearn.svm import SVC\n",
    "classif1=OneVsRestClassifier(SVC(probability=True))\n",
    "classif1.fit(X_train1,y_train1)\n",
    "\n"
   ]
  },
  {
   "cell_type": "code",
   "execution_count": 8,
   "metadata": {
    "collapsed": false
   },
   "outputs": [
    {
     "name": "stdout",
     "output_type": "stream",
     "text": [
      "the performance of trained model2 is 58.55 percent\n",
      "the performance of test model2 is 57.825 percent\n"
     ]
    }
   ],
   "source": [
    "print(\"the performance of trained model2 is\",classif1.score(X_train1,y_train1)*100,\"percent\")\n",
    "print(\"the performance of test model2 is\",classif1.score(X_test1,y_test1)*100,\"percent\")"
   ]
  },
  {
   "cell_type": "code",
   "execution_count": 9,
   "metadata": {
    "collapsed": false
   },
   "outputs": [
    {
     "name": "stdout",
     "output_type": "stream",
     "text": [
      "accuracy of model2 57.825 percent\n"
     ]
    }
   ],
   "source": [
    "pred1=classif1.predict(X_test1)\n",
    "s1=0\n",
    "for i in range(len(pred1)):\n",
    "    if pred1[i]==y_test1[i]:\n",
    "        s1+=1\n",
    "print(\"accuracy of model2\",s1/len(pred1)*100,\"percent\")\n",
    "import seaborn as sns"
   ]
  },
  {
   "cell_type": "code",
   "execution_count": 10,
   "metadata": {
    "collapsed": true
   },
   "outputs": [],
   "source": [
    "dat=pd.merge(X,pd.DataFrame(pred,columns=[\"casualty\"]),right_index=True,left_index=True)\n",
    "data=pd.merge(dat,pd.DataFrame(pred1,columns=[\"driver\"]),right_index=True,left_index=True)"
   ]
  },
  {
   "cell_type": "code",
   "execution_count": 11,
   "metadata": {
    "collapsed": false
   },
   "outputs": [
    {
     "data": {
      "text/plain": [
       "RandomForestClassifier(bootstrap=True, class_weight=None, criterion='gini',\n",
       "            max_depth=None, max_features='auto', max_leaf_nodes=None,\n",
       "            min_impurity_decrease=0.0, min_impurity_split=None,\n",
       "            min_samples_leaf=1, min_samples_split=2,\n",
       "            min_weight_fraction_leaf=0.0, n_estimators=10000, n_jobs=-1,\n",
       "            oob_score=False, random_state=0, verbose=0, warm_start=False)"
      ]
     },
     "execution_count": 11,
     "metadata": {},
     "output_type": "execute_result"
    }
   ],
   "source": [
    "from sklearn.ensemble import RandomForestClassifier \n",
    "clf = RandomForestClassifier(n_estimators=10000, random_state=0, n_jobs=-1)\n",
    "clf.fit(X_train, y_train)"
   ]
  },
  {
   "cell_type": "code",
   "execution_count": 12,
   "metadata": {
    "collapsed": true
   },
   "outputs": [],
   "source": [
    "imp=clf.feature_importances_"
   ]
  },
  {
   "cell_type": "code",
   "execution_count": 13,
   "metadata": {
    "collapsed": false
   },
   "outputs": [
    {
     "name": "stdout",
     "output_type": "stream",
     "text": [
      "the importance of the features are [ 0.19604894  0.24533437  0.33380194  0.14642689  0.07838785]\n"
     ]
    }
   ],
   "source": [
    "print(\"the importance of the features are\",imp)"
   ]
  },
  {
   "cell_type": "code",
   "execution_count": 14,
   "metadata": {
    "collapsed": false
   },
   "outputs": [
    {
     "data": {
      "text/plain": [
       "([<matplotlib.axis.XTick at 0x14fb7da41d0>,\n",
       "  <matplotlib.axis.XTick at 0x14fb7db3048>,\n",
       "  <matplotlib.axis.XTick at 0x14fb7db30b8>,\n",
       "  <matplotlib.axis.XTick at 0x14fb7fff668>,\n",
       "  <matplotlib.axis.XTick at 0x14fb7fffcc0>],\n",
       " <a list of 5 Text xticklabel objects>)"
      ]
     },
     "execution_count": 14,
     "metadata": {},
     "output_type": "execute_result"
    },
    {
     "data": {
      "image/png": "[encoded data removed]",
      "text/plain": [
       "<Figure size 600x400 with 1 Axes>"
      ]
     },
     "metadata": {},
     "output_type": "display_data"
    }
   ],
   "source": [
    "import matplotlib.pyplot as plt\n",
    "feat=list(X.columns)\n",
    "%matplotlib inline\n",
    "plt.bar(feat,imp)\n",
    "plt.xticks(feat,rotation=20,fontsize=8)"
   ]
  },
  {
   "cell_type": "code",
   "execution_count": 52,
   "metadata": {
    "collapsed": false
   },
   "outputs": [
    {
     "data": {
      "text/plain": [
       "<matplotlib.axes._subplots.AxesSubplot at 0x14fb813a7b8>"
      ]
     },
     "execution_count": 52,
     "metadata": {},
     "output_type": "execute_result"
    },
    {
     "data": {
      "image/png": "[encoded data removed]",
      "text/plain": [
       "<Figure size 600x400 with 1 Axes>"
      ]
     },
     "metadata": {},
     "output_type": "display_data"
    },
    {
     "data": {
      "image/png": "[encoded data removed]",
      "text/plain": [
       "<Figure size 600x400 with 1 Axes>"
      ]
     },
     "metadata": {},
     "output_type": "display_data"
    }
   ],
   "source": [
    "plt.subplots(0,0,sharex='row')\n",
    "sns.barplot(x=data['driver'],y=data['road_surface_conditions'])\n",
    "plt.subplots(1,1,sharex='row')\n",
    "sns.barplot(x=data['driver'],y=data['skidding_and_overturning'])"
   ]
  },
  {
   "cell_type": "code",
   "execution_count": 53,
   "metadata": {
    "collapsed": false
   },
   "outputs": [
    {
     "data": {
      "text/plain": [
       "<matplotlib.axes._subplots.AxesSubplot at 0x14fd85dc9b0>"
      ]
     },
     "execution_count": 53,
     "metadata": {},
     "output_type": "execute_result"
    },
    {
     "data": {
      "image/png": "[encoded data removed]",
      "text/plain": [
       "<Figure size 600x400 with 1 Axes>"
      ]
     },
     "metadata": {},
     "output_type": "display_data"
    },
    {
     "data": {
      "image/png": "[encoded data removed]",
      "text/plain": [
       "<Figure size 600x400 with 1 Axes>"
      ]
     },
     "metadata": {},
     "output_type": "display_data"
    }
   ],
   "source": [
    "plt.subplots(0,0,sharex='row')\n",
    "sns.barplot(x=data['driver'],y=data['hit_object_in_carriageway'])\n",
    "plt.subplots(1,1,sharex='row')\n",
    "sns.barplot(x=data['driver'],y=data['hit_object_off_carriageway'])"
   ]
  },
  {
   "cell_type": "code",
   "execution_count": 54,
   "metadata": {
    "collapsed": false
   },
   "outputs": [
    {
     "data": {
      "text/plain": [
       "<matplotlib.axes._subplots.AxesSubplot at 0x14fb81814e0>"
      ]
     },
     "execution_count": 54,
     "metadata": {},
     "output_type": "execute_result"
    },
    {
     "data": {
      "image/png": "[encoded data removed]",
      "text/plain": [
       "<Figure size 600x400 with 1 Axes>"
      ]
     },
     "metadata": {},
     "output_type": "display_data"
    }
   ],
   "source": [
    "sns.barplot(x=data['driver'],y=data['urban_or_rural_area'])"
   ]
  },
  {
   "cell_type": "code",
   "execution_count": 55,
   "metadata": {
    "collapsed": false
   },
   "outputs": [
    {
     "data": {
      "text/plain": [
       "<matplotlib.axes._subplots.AxesSubplot at 0x14fb8494a90>"
      ]
     },
     "execution_count": 55,
     "metadata": {},
     "output_type": "execute_result"
    },
    {
     "data": {
      "image/png": "[encoded data removed]",
      "text/plain": [
       "<Figure size 600x400 with 1 Axes>"
      ]
     },
     "metadata": {},
     "output_type": "display_data"
    },
    {
     "data": {
      "image/png": "[encoded data removed]",
      "text/plain": [
       "<Figure size 600x400 with 1 Axes>"
      ]
     },
     "metadata": {},
     "output_type": "display_data"
    }
   ],
   "source": [
    "plt.subplots(0,0,sharex='row')\n",
    "sns.barplot(x=data['casualty'],y=data['hit_object_in_carriageway'])\n",
    "plt.subplots(1,1,sharex='row')\n",
    "sns.barplot(x=data['casualty'],y=data['hit_object_off_carriageway'])"
   ]
  },
  {
   "cell_type": "code",
   "execution_count": 56,
   "metadata": {
    "collapsed": false
   },
   "outputs": [
    {
     "data": {
      "text/plain": [
       "<matplotlib.axes._subplots.AxesSubplot at 0x14fd82e5940>"
      ]
     },
     "execution_count": 56,
     "metadata": {},
     "output_type": "execute_result"
    },
    {
     "data": {
      "image/png": "[encoded data removed]",
      "text/plain": [
       "<Figure size 600x400 with 1 Axes>"
      ]
     },
     "metadata": {},
     "output_type": "display_data"
    },
    {
     "data": {
      "image/png": "[encoded data removed]",
      "text/plain": [
       "<Figure size 600x400 with 1 Axes>"
      ]
     },
     "metadata": {},
     "output_type": "display_data"
    }
   ],
   "source": [
    "plt.subplots(0,0,sharex='row')\n",
    "sns.barplot(x=data['casualty'],y=data['road_surface_conditions'])\n",
    "plt.subplots(1,1,sharex='row')\n",
    "sns.barplot(x=data['casualty'],y=data['skidding_and_overturning'])"
   ]
  },
  {
   "cell_type": "code",
   "execution_count": 57,
   "metadata": {
    "collapsed": false
   },
   "outputs": [
    {
     "data": {
      "text/plain": [
       "<matplotlib.axes._subplots.AxesSubplot at 0x14fb81c19e8>"
      ]
     },
     "execution_count": 57,
     "metadata": {},
     "output_type": "execute_result"
    },
    {
     "data": {
      "image/png": "[encoded data removed]",
      "text/plain": [
       "<Figure size 600x400 with 1 Axes>"
      ]
     },
     "metadata": {},
     "output_type": "display_data"
    }
   ],
   "source": [
    "sns.barplot(x=data['casualty'],y=data['urban_or_rural_area'])"
   ]
  },
  {
   "cell_type": "code",
   "execution_count": null,
   "metadata": {
    "collapsed": false
   },
   "outputs": [],
   "source": []
  },
  {
   "cell_type": "code",
   "execution_count": null,
   "metadata": {
    "collapsed": true
   },
   "outputs": [],
   "source": []
  }
 ],
 "metadata": {
  "kernelspec": {
   "display_name": "Python [Anaconda3]",
   "language": "python",
   "name": "Python [Anaconda3]"
  },
  "language_info": {
   "codemirror_mode": {
    "name": "ipython",
    "version": 3
   },
   "file_extension": ".py",
   "mimetype": "text/x-python",
   "name": "python",
   "nbconvert_exporter": "python",
   "pygments_lexer": "ipython3",
   "version": "3.5.5"
  }
 },
 "nbformat": 4,
 "nbformat_minor": 0
}
